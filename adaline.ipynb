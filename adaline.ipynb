{
 "cells": [
  {
   "cell_type": "code",
   "execution_count": 2,
   "id": "dda79dcb-8bab-4d32-aae7-22b7374e8e9c",
   "metadata": {},
   "outputs": [],
   "source": [
    "import pandas as pd\n",
    "import seaborn as sns\n",
    "import numpy as np\n",
    "import matplotlib.pyplot as plt\n",
    "from random import random\n",
    "from sklearn.linear_model import LinearRegression\n",
    "from sklearn.preprocessing import MinMaxScaler\n",
    "from sklearn.datasets import make_blobs"
   ]
  },
  {
   "cell_type": "code",
   "execution_count": 3,
   "id": "1307f46f-84a9-4052-a58a-5fdab2393d2e",
   "metadata": {},
   "outputs": [
    {
     "data": {
      "text/html": [
       "<div>\n",
       "<style scoped>\n",
       "    .dataframe tbody tr th:only-of-type {\n",
       "        vertical-align: middle;\n",
       "    }\n",
       "\n",
       "    .dataframe tbody tr th {\n",
       "        vertical-align: top;\n",
       "    }\n",
       "\n",
       "    .dataframe thead th {\n",
       "        text-align: right;\n",
       "    }\n",
       "</style>\n",
       "<table border=\"1\" class=\"dataframe\">\n",
       "  <thead>\n",
       "    <tr style=\"text-align: right;\">\n",
       "      <th></th>\n",
       "      <th>prova1</th>\n",
       "      <th>prova2</th>\n",
       "      <th>prova3</th>\n",
       "      <th>final</th>\n",
       "    </tr>\n",
       "  </thead>\n",
       "  <tbody>\n",
       "    <tr>\n",
       "      <th>0</th>\n",
       "      <td>73</td>\n",
       "      <td>80</td>\n",
       "      <td>75</td>\n",
       "      <td>152</td>\n",
       "    </tr>\n",
       "    <tr>\n",
       "      <th>1</th>\n",
       "      <td>93</td>\n",
       "      <td>88</td>\n",
       "      <td>93</td>\n",
       "      <td>185</td>\n",
       "    </tr>\n",
       "    <tr>\n",
       "      <th>2</th>\n",
       "      <td>89</td>\n",
       "      <td>91</td>\n",
       "      <td>90</td>\n",
       "      <td>180</td>\n",
       "    </tr>\n",
       "    <tr>\n",
       "      <th>3</th>\n",
       "      <td>96</td>\n",
       "      <td>98</td>\n",
       "      <td>100</td>\n",
       "      <td>196</td>\n",
       "    </tr>\n",
       "    <tr>\n",
       "      <th>4</th>\n",
       "      <td>73</td>\n",
       "      <td>66</td>\n",
       "      <td>70</td>\n",
       "      <td>142</td>\n",
       "    </tr>\n",
       "  </tbody>\n",
       "</table>\n",
       "</div>"
      ],
      "text/plain": [
       "   prova1  prova2  prova3  final\n",
       "0      73      80      75    152\n",
       "1      93      88      93    185\n",
       "2      89      91      90    180\n",
       "3      96      98     100    196\n",
       "4      73      66      70    142"
      ]
     },
     "execution_count": 3,
     "metadata": {},
     "output_type": "execute_result"
    }
   ],
   "source": [
    "df = pd.read_csv(\"notas.csv\")\n",
    "\n",
    "df.head()"
   ]
  },
  {
   "cell_type": "code",
   "execution_count": 4,
   "id": "78a4e9b8-eb49-466f-baef-614ff2d37498",
   "metadata": {},
   "outputs": [
    {
     "data": {
      "text/plain": [
       "(25, 4)"
      ]
     },
     "execution_count": 4,
     "metadata": {},
     "output_type": "execute_result"
    }
   ],
   "source": [
    "df.shape"
   ]
  },
  {
   "cell_type": "code",
   "execution_count": 5,
   "id": "2da72ced-f1bb-46ea-8d62-2bed7c301599",
   "metadata": {},
   "outputs": [],
   "source": [
    "#now let's normalize the data\n",
    "x = df[['prova1', 'prova2', 'prova3']].values\n",
    "y = df['final'].values.reshape(-1, 1)\n",
    "\n",
    "minmax  = MinMaxScaler(feature_range=(-1, 1))\n",
    "x = minmax.fit_transform(x.astype(np.float64))\n"
   ]
  },
  {
   "cell_type": "code",
   "execution_count": 6,
   "id": "022f98d2-4b8a-47f9-baa5-85865b38e5ef",
   "metadata": {},
   "outputs": [],
   "source": [
    "# now let's implement the Adaline neuron to a regression problem"
   ]
  },
  {
   "cell_type": "code",
   "execution_count": 7,
   "id": "4473debb-19db-4af6-adf5-847fde3c9605",
   "metadata": {},
   "outputs": [],
   "source": [
    "#you can see that the Adaline implementation is not that different from the Perceptron implementation\n",
    "# the main diffence is the way that it learn, which uses the Gradient Descent\n",
    "# and Adaline knows how big is it error based on it cost function\n",
    "\n"
   ]
  },
  {
   "cell_type": "code",
   "execution_count": 8,
   "id": "7ec0b4dc-a83e-4334-ad18-f95a80a1e245",
   "metadata": {},
   "outputs": [
    {
     "name": "stdout",
     "output_type": "stream",
     "text": [
      "step 0 : [510028.34883468]\n",
      "step 200 : [172.78539903]\n",
      "step 400 : [148.31936331]\n",
      "step 600 : [146.39681137]\n",
      "step 800 : [146.18069622]\n",
      "step 1000 : [146.15421725]\n",
      "w: [array([8.79506356]), array([14.09578032]), array([26.29249788])]\n",
      "b:  [150.70728214]\n"
     ]
    }
   ],
   "source": [
    "D = x.shape[1]\n",
    "#defining weights and bias\n",
    "w = [2*random() - 1 for i in range(D)]\n",
    "b = 2*random() - 1\n",
    "\n",
    "learning_rate = 1e-2\n",
    "\n",
    "for step in range(1001):\n",
    "    cost = 0\n",
    "    for x_n, y_n in zip(x,y):\n",
    "        y_pred = sum([x_i*w_i for x_i, w_i in zip(x_n, w)]) + b\n",
    "        error = y_n - y_pred\n",
    "        w = [w_i + learning_rate*x_i*error for x_i, w_i in zip(x_n, w)]\n",
    "        b = b + learning_rate*error\n",
    "        cost += error**2\n",
    "    if step%200 == 0:\n",
    "        print(\"step {0} : {1}\".format(step,cost))\n",
    "\n",
    "print(\"w:\", w)\n",
    "print(\"b: \", b)"
   ]
  },
  {
   "cell_type": "code",
   "execution_count": 9,
   "id": "71782289-d8ab-48f3-a49f-70379083f521",
   "metadata": {},
   "outputs": [],
   "source": [
    "#now let's compare it with sklearn linear regression"
   ]
  },
  {
   "cell_type": "code",
   "execution_count": 10,
   "id": "842cbbf7-12b7-4564-919f-d3f83ab30f73",
   "metadata": {},
   "outputs": [
    {
     "name": "stdout",
     "output_type": "stream",
     "text": [
      "w:  [[ 8.72048636 14.1054877  26.26749487]]\n",
      "b:  [150.65175754]\n"
     ]
    }
   ],
   "source": [
    "reg  = LinearRegression()\n",
    "\n",
    "reg.fit(x,y)\n",
    "\n",
    "print(\"w: \", reg.coef_)\n",
    "print(\"b: \", reg.intercept_)\n"
   ]
  },
  {
   "cell_type": "code",
   "execution_count": 12,
   "id": "cb455944-3998-4402-90df-cd8d9c8c9fa9",
   "metadata": {},
   "outputs": [],
   "source": [
    "#Classification  "
   ]
  },
  {
   "cell_type": "code",
   "execution_count": 13,
   "id": "60740013-1135-47d5-9378-8e2cd697346b",
   "metadata": {},
   "outputs": [
    {
     "name": "stdout",
     "output_type": "stream",
     "text": [
      "(4, 2) (4,)\n"
     ]
    }
   ],
   "source": [
    "x = np.array([[0, 0], [0, 1], [1, 0], [1, 1]])\n",
    "# y = np.array([[0, 1, 1, 1]]).T # porta OR\n",
    "y = np.array([0, 0, 0, 1]).T # porta AND\n",
    "\n",
    "print(x.shape, y.shape)"
   ]
  },
  {
   "cell_type": "code",
   "execution_count": 15,
   "id": "e9f8d8d8-c27a-4fa7-bead-357023b36d2d",
   "metadata": {},
   "outputs": [],
   "source": [
    "D = x.shape[1]\n",
    "w = 2*np.random.random(size = D) - 1\n",
    "b = 2*np.random.random() - 1\n",
    "# defining weights bias and learning rate\n",
    "learning_rate = 1e-3"
   ]
  },
  {
   "cell_type": "code",
   "execution_count": 16,
   "id": "26345a7f-4f5d-4c67-b5a2-c883e45ecdd9",
   "metadata": {},
   "outputs": [
    {
     "name": "stdout",
     "output_type": "stream",
     "text": [
      "step 0 : 4.290491987679945\n",
      "step 10 : 3.9112921072360667\n",
      "step 20 : 3.5754983965610867\n",
      "step 30 : 3.277949961136526\n",
      "step 40 : 3.014103416363563\n",
      "step 50 : 2.779958926788428\n",
      "step 60 : 2.571995105121112\n",
      "step 70 : 2.3871117097132415\n",
      "step 80 : 2.2225792063002006\n",
      "step 90 : 2.0759943717215132\n",
      "step 100 : 1.9452412158367416\n",
      "w: [-0.45658004  0.81019788]\n",
      "b:  -0.3370163506370006\n"
     ]
    }
   ],
   "source": [
    "for step in range(101):\n",
    "    cost  = 0\n",
    "    for x_n,y_n in zip(x,y):\n",
    "        y_pred = np.dot(x_n, w) + b\n",
    "        error = y_n - y_pred\n",
    "        w = w + np.dot(x_n, error)*learning_rate\n",
    "        b = b + error*learning_rate\n",
    "        cost += error**2\n",
    "    if step%10 == 0:\n",
    "        print(\"step {0} : {1}\".format(step,cost))\n",
    "\n",
    "print(\"w:\", w)\n",
    "print(\"b: \", b)"
   ]
  },
  {
   "cell_type": "code",
   "execution_count": null,
   "id": "4ca0af73-59d5-4505-88c0-080034895a8e",
   "metadata": {},
   "outputs": [],
   "source": []
  }
 ],
 "metadata": {
  "kernelspec": {
   "display_name": "Python 3 (ipykernel)",
   "language": "python",
   "name": "python3"
  },
  "language_info": {
   "codemirror_mode": {
    "name": "ipython",
    "version": 3
   },
   "file_extension": ".py",
   "mimetype": "text/x-python",
   "name": "python",
   "nbconvert_exporter": "python",
   "pygments_lexer": "ipython3",
   "version": "3.11.7"
  }
 },
 "nbformat": 4,
 "nbformat_minor": 5
}
