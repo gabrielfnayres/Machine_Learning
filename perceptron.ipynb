{
 "cells": [
  {
   "cell_type": "code",
   "execution_count": 59,
   "id": "1045bd65-c8d5-4e86-96d2-d7e43164a132",
   "metadata": {},
   "outputs": [],
   "source": [
    "import numpy as np\n",
    "import pandas as pd\n",
    "import seaborn as sns\n",
    "from random import random\n",
    "\n",
    "from sklearn.linear_model import LinearRegression\n",
    "from sklearn.preprocessing import MinMaxScaler\n",
    "from sklearn.datasets import make_blobs"
   ]
  },
  {
   "cell_type": "code",
   "execution_count": 60,
   "id": "920ba3e9-d6e1-44a2-9b87-9c6e6ffa71e7",
   "metadata": {},
   "outputs": [],
   "source": [
    "x = np.array([[0, 0], [0, 1], [1, 0], [1, 1]])\n",
    "y = np.array([0, 0, 0, 1]).T"
   ]
  },
  {
   "cell_type": "code",
   "execution_count": 61,
   "id": "87f78bf1-246f-4aff-8144-2cd9049923f2",
   "metadata": {},
   "outputs": [
    {
     "name": "stdout",
     "output_type": "stream",
     "text": [
      "step: 0 cost: 2 \n",
      "step: 10 cost: 0 \n",
      "step: 20 cost: 0 \n",
      "step: 30 cost: 0 \n",
      "step: 40 cost: 0 \n",
      "step: 50 cost: 0 \n",
      "step: 60 cost: 0 \n",
      "step: 70 cost: 0 \n",
      "step: 80 cost: 0 \n",
      "step: 90 cost: 0 \n",
      "step: 100 cost: 0 \n",
      "w :  [0.4006519104787536, 0.09763064415140732]\n",
      "b:  -0.45137022865783183\n"
     ]
    }
   ],
   "source": [
    "D = x.shape[1]\n",
    "\n",
    "w = [2*random() - 1 for i in range(D)]\n",
    "b = 2*random() - 1\n",
    "# defining random weigths and bias \n",
    "\n",
    "learning_rate = 1e-1\n",
    "\n",
    "# coding the number of \"steps\"\n",
    "\n",
    "for step in range(101):\n",
    "    cost  = 0\n",
    "    # iterating each elemente of x and y\n",
    "    for x_n, y_n in zip(x, y):\n",
    "        #implementing the step function for classification in this case\n",
    "        y_pred =  sum([x_i*w_i for x_i, w_i in zip(x_n, w)]) + b\n",
    "        #classification step:\n",
    "        y_pred = 1 if y_pred > 0 else  0\n",
    "        #defining error: y_n(real y element) y_pred(y predicted)\n",
    "        error = y_n - y_pred\n",
    "        #updating my weigths and bias online\n",
    "        w = [w_i + learning_rate*error*x_i for x_i, w_i in zip(x_n, w)]\n",
    "        b = b + learning_rate*error\n",
    "        #updating the cost of each step]\n",
    "        cost += error**2\n",
    "    #showing the results\n",
    "    if step % 10 == 0:\n",
    "        print(\"step: {0} cost: {1} \".format(step, cost))\n",
    "print(\"w : \", w)\n",
    "print(\"b: \", b)"
   ]
  },
  {
   "cell_type": "code",
   "execution_count": 62,
   "id": "34837041-5b9f-4aae-9f14-d4d0807c3e07",
   "metadata": {},
   "outputs": [],
   "source": [
    "### Now implementing it for a regression model"
   ]
  },
  {
   "cell_type": "code",
   "execution_count": 63,
   "id": "d138c4da-019f-4202-a7be-46a53ef65e4d",
   "metadata": {},
   "outputs": [
    {
     "data": {
      "text/html": [
       "<div>\n",
       "<style scoped>\n",
       "    .dataframe tbody tr th:only-of-type {\n",
       "        vertical-align: middle;\n",
       "    }\n",
       "\n",
       "    .dataframe tbody tr th {\n",
       "        vertical-align: top;\n",
       "    }\n",
       "\n",
       "    .dataframe thead th {\n",
       "        text-align: right;\n",
       "    }\n",
       "</style>\n",
       "<table border=\"1\" class=\"dataframe\">\n",
       "  <thead>\n",
       "    <tr style=\"text-align: right;\">\n",
       "      <th></th>\n",
       "      <th>Altura</th>\n",
       "      <th>Peso</th>\n",
       "    </tr>\n",
       "  </thead>\n",
       "  <tbody>\n",
       "    <tr>\n",
       "      <th>0</th>\n",
       "      <td>187</td>\n",
       "      <td>109.72</td>\n",
       "    </tr>\n",
       "    <tr>\n",
       "      <th>1</th>\n",
       "      <td>177</td>\n",
       "      <td>91.09</td>\n",
       "    </tr>\n",
       "    <tr>\n",
       "      <th>2</th>\n",
       "      <td>180</td>\n",
       "      <td>88.93</td>\n",
       "    </tr>\n",
       "    <tr>\n",
       "      <th>3</th>\n",
       "      <td>177</td>\n",
       "      <td>89.39</td>\n",
       "    </tr>\n",
       "    <tr>\n",
       "      <th>4</th>\n",
       "      <td>177</td>\n",
       "      <td>92.02</td>\n",
       "    </tr>\n",
       "    <tr>\n",
       "      <th>...</th>\n",
       "      <td>...</td>\n",
       "      <td>...</td>\n",
       "    </tr>\n",
       "    <tr>\n",
       "      <th>95</th>\n",
       "      <td>166</td>\n",
       "      <td>57.14</td>\n",
       "    </tr>\n",
       "    <tr>\n",
       "      <th>96</th>\n",
       "      <td>165</td>\n",
       "      <td>71.16</td>\n",
       "    </tr>\n",
       "    <tr>\n",
       "      <th>97</th>\n",
       "      <td>159</td>\n",
       "      <td>68.75</td>\n",
       "    </tr>\n",
       "    <tr>\n",
       "      <th>98</th>\n",
       "      <td>159</td>\n",
       "      <td>58.22</td>\n",
       "    </tr>\n",
       "    <tr>\n",
       "      <th>99</th>\n",
       "      <td>167</td>\n",
       "      <td>66.66</td>\n",
       "    </tr>\n",
       "  </tbody>\n",
       "</table>\n",
       "<p>100 rows × 2 columns</p>\n",
       "</div>"
      ],
      "text/plain": [
       "    Altura    Peso\n",
       "0      187  109.72\n",
       "1      177   91.09\n",
       "2      180   88.93\n",
       "3      177   89.39\n",
       "4      177   92.02\n",
       "..     ...     ...\n",
       "95     166   57.14\n",
       "96     165   71.16\n",
       "97     159   68.75\n",
       "98     159   58.22\n",
       "99     167   66.66\n",
       "\n",
       "[100 rows x 2 columns]"
      ]
     },
     "execution_count": 63,
     "metadata": {},
     "output_type": "execute_result"
    }
   ],
   "source": [
    "#relation between weigth and height\n",
    "\n",
    "df = pd.read_csv(\"medidas.csv\")\n",
    "df"
   ]
  },
  {
   "cell_type": "code",
   "execution_count": 64,
   "id": "47032bb6-8324-401c-8772-96c3d11b606a",
   "metadata": {},
   "outputs": [],
   "source": [
    "x = df.Altura.values\n",
    "y = df.Peso.values"
   ]
  },
  {
   "cell_type": "code",
   "execution_count": 65,
   "id": "7a2367ff-1225-40ac-bdb3-e1d674922b92",
   "metadata": {},
   "outputs": [
    {
     "data": {
      "text/plain": [
       "<Axes: xlabel='Altura', ylabel='Peso'>"
      ]
     },
     "execution_count": 65,
     "metadata": {},
     "output_type": "execute_result"
    },
    {
     "data": {
      "image/png": "[encoded data removed]",
      "text/plain": [
       "<Figure size 640x480 with 1 Axes>"
      ]
     },
     "metadata": {},
     "output_type": "display_data"
    }
   ],
   "source": [
    "sns.scatterplot(data=df, x=\"Altura\", y=\"Peso\")\n",
    "#this is the scatter plot which is clearly an linear regression situation"
   ]
  },
  {
   "cell_type": "code",
   "execution_count": 66,
   "id": "f48b6d0b-6057-4473-9207-d3c1bdbc9eb0",
   "metadata": {},
   "outputs": [
    {
     "name": "stdout",
     "output_type": "stream",
     "text": [
      "(100, 1) (100,)\n"
     ]
    }
   ],
   "source": [
    "#reshaping \n",
    "x = x.reshape(-1,1)\n",
    "print(x.shape, y.shape)\n",
    "\n",
    "\n",
    "#normalizing the data\n",
    "\n",
    "minmax = MinMaxScaler(feature_range=(-1,1))\n",
    "x = minmax.fit_transform(x.astype(np.float64))"
   ]
  },
  {
   "cell_type": "code",
   "execution_count": 67,
   "id": "5cff1f71-f141-4b8d-b778-03f60c1b317f",
   "metadata": {},
   "outputs": [
    {
     "name": "stdout",
     "output_type": "stream",
     "text": [
      "step: 0 cost: 527542.6981515428 \n",
      "step: 200 cost: 2623.869910816215 \n",
      "step: 400 cost: 2611.25180154501 \n",
      "step: 600 cost: 2611.244366344323 \n",
      "step: 800 cost: 2611.244354467171 \n",
      "step: 1000 cost: 2611.244354277995 \n",
      "w :  [33.60180844764758]\n",
      "b:  74.9389642686907\n"
     ]
    }
   ],
   "source": [
    "\n",
    "#now let's implement it \n",
    "\n",
    "\n",
    "D = x.shape[1]\n",
    "\n",
    "w = [2*random() - 1 for i in range(D)]\n",
    "b =  2*random() - 1\n",
    "# defining weigths and bias randomly\n",
    "\n",
    "learning_rate = 1e-3\n",
    "\n",
    "#defining the \"steps\"\n",
    "\n",
    "for step in range(1001):\n",
    "    cost = 0\n",
    "    for x_n, y_n in zip(x, y):\n",
    "        y_pred = sum([x_i*w_i for x_i, w_i in zip(x_n, w)]) + b\n",
    "        # not defining the 1 or 0 for classification because of the linear regression situation\n",
    "        error = y_n - y_pred\n",
    "        w = [w_i + learning_rate*error*x_i for x_i, w_i in zip(x_n, w)]\n",
    "        b = b + learning_rate*error\n",
    "        cost += error**2\n",
    "    if step % 200 == 0:\n",
    "        print(\"step: {0} cost: {1} \".format(step, cost))\n",
    "print(\"w : \", w)\n",
    "print(\"b: \", b)"
   ]
  },
  {
   "cell_type": "code",
   "execution_count": 68,
   "id": "f41c9ec5-8df2-453a-831d-89245c78b48d",
   "metadata": {},
   "outputs": [
    {
     "name": "stdout",
     "output_type": "stream",
     "text": [
      "w:  [33.60164767]\n",
      "b:  74.99636286981102\n"
     ]
    }
   ],
   "source": [
    "#now lets compare it with sklearn\n",
    "\n",
    "reg = LinearRegression()\n",
    "\n",
    "reg.fit(x, y)\n",
    "\n",
    "print(\"w: \",reg.coef_)\n",
    "print(\"b: \", reg.intercept_)"
   ]
  },
  {
   "cell_type": "code",
   "execution_count": null,
   "id": "39bcf902-08ff-4405-af90-76004e3f8543",
   "metadata": {},
   "outputs": [],
   "source": []
  }
 ],
 "metadata": {
  "kernelspec": {
   "display_name": "Python 3 (ipykernel)",
   "language": "python",
   "name": "python3"
  },
  "language_info": {
   "codemirror_mode": {
    "name": "ipython",
    "version": 3
   },
   "file_extension": ".py",
   "mimetype": "text/x-python",
   "name": "python",
   "nbconvert_exporter": "python",
   "pygments_lexer": "ipython3",
   "version": "3.11.7"
  }
 },
 "nbformat": 4,
 "nbformat_minor": 5
}
